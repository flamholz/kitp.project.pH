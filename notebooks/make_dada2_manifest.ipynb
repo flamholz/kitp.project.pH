{
 "cells": [
  {
   "cell_type": "code",
   "execution_count": 1,
   "metadata": {},
   "outputs": [],
   "source": [
    "import pandas as pd\n",
    "from os import path"
   ]
  },
  {
   "cell_type": "code",
   "execution_count": 2,
   "metadata": {},
   "outputs": [
    {
     "data": {
      "text/html": [
       "<div>\n",
       "<style scoped>\n",
       "    .dataframe tbody tr th:only-of-type {\n",
       "        vertical-align: middle;\n",
       "    }\n",
       "\n",
       "    .dataframe tbody tr th {\n",
       "        vertical-align: top;\n",
       "    }\n",
       "\n",
       "    .dataframe thead th {\n",
       "        text-align: right;\n",
       "    }\n",
       "</style>\n",
       "<table border=\"1\" class=\"dataframe\">\n",
       "  <thead>\n",
       "    <tr style=\"text-align: right;\">\n",
       "      <th></th>\n",
       "      <th>study_accession</th>\n",
       "      <th>sample_accession</th>\n",
       "      <th>experiment_accession</th>\n",
       "      <th>run_accession</th>\n",
       "      <th>tax_id</th>\n",
       "      <th>scientific_name</th>\n",
       "      <th>fastq_ftp</th>\n",
       "      <th>submitted_ftp</th>\n",
       "      <th>sra_ftp</th>\n",
       "    </tr>\n",
       "  </thead>\n",
       "  <tbody>\n",
       "    <tr>\n",
       "      <th>0</th>\n",
       "      <td>PRJEB19856</td>\n",
       "      <td>SAMEA103892433</td>\n",
       "      <td>ERX1933710</td>\n",
       "      <td>ERR1873185</td>\n",
       "      <td>410658</td>\n",
       "      <td>soil metagenome</td>\n",
       "      <td>ftp.sra.ebi.ac.uk/vol1/fastq/ERR187/005/ERR187...</td>\n",
       "      <td>ftp.sra.ebi.ac.uk/vol1/run/ERR187/ERR1873185/A...</td>\n",
       "      <td>NaN</td>\n",
       "    </tr>\n",
       "    <tr>\n",
       "      <th>1</th>\n",
       "      <td>PRJEB19856</td>\n",
       "      <td>SAMEA103892434</td>\n",
       "      <td>ERX1933711</td>\n",
       "      <td>ERR1873186</td>\n",
       "      <td>410658</td>\n",
       "      <td>soil metagenome</td>\n",
       "      <td>ftp.sra.ebi.ac.uk/vol1/fastq/ERR187/006/ERR187...</td>\n",
       "      <td>ftp.sra.ebi.ac.uk/vol1/run/ERR187/ERR1873186/A...</td>\n",
       "      <td>NaN</td>\n",
       "    </tr>\n",
       "    <tr>\n",
       "      <th>2</th>\n",
       "      <td>PRJEB19856</td>\n",
       "      <td>SAMEA103892435</td>\n",
       "      <td>ERX1933712</td>\n",
       "      <td>ERR1873187</td>\n",
       "      <td>410658</td>\n",
       "      <td>soil metagenome</td>\n",
       "      <td>ftp.sra.ebi.ac.uk/vol1/fastq/ERR187/007/ERR187...</td>\n",
       "      <td>ftp.sra.ebi.ac.uk/vol1/run/ERR187/ERR1873187/A...</td>\n",
       "      <td>NaN</td>\n",
       "    </tr>\n",
       "    <tr>\n",
       "      <th>3</th>\n",
       "      <td>PRJEB19856</td>\n",
       "      <td>SAMEA103892436</td>\n",
       "      <td>ERX1933713</td>\n",
       "      <td>ERR1873188</td>\n",
       "      <td>410658</td>\n",
       "      <td>soil metagenome</td>\n",
       "      <td>ftp.sra.ebi.ac.uk/vol1/fastq/ERR187/008/ERR187...</td>\n",
       "      <td>ftp.sra.ebi.ac.uk/vol1/run/ERR187/ERR1873188/A...</td>\n",
       "      <td>NaN</td>\n",
       "    </tr>\n",
       "    <tr>\n",
       "      <th>4</th>\n",
       "      <td>PRJEB19856</td>\n",
       "      <td>SAMEA103892437</td>\n",
       "      <td>ERX1933714</td>\n",
       "      <td>ERR1873189</td>\n",
       "      <td>410658</td>\n",
       "      <td>soil metagenome</td>\n",
       "      <td>ftp.sra.ebi.ac.uk/vol1/fastq/ERR187/009/ERR187...</td>\n",
       "      <td>ftp.sra.ebi.ac.uk/vol1/run/ERR187/ERR1873189/A...</td>\n",
       "      <td>NaN</td>\n",
       "    </tr>\n",
       "  </tbody>\n",
       "</table>\n",
       "</div>"
      ],
      "text/plain": [
       "  study_accession sample_accession experiment_accession run_accession  tax_id  \\\n",
       "0      PRJEB19856   SAMEA103892433           ERX1933710    ERR1873185  410658   \n",
       "1      PRJEB19856   SAMEA103892434           ERX1933711    ERR1873186  410658   \n",
       "2      PRJEB19856   SAMEA103892435           ERX1933712    ERR1873187  410658   \n",
       "3      PRJEB19856   SAMEA103892436           ERX1933713    ERR1873188  410658   \n",
       "4      PRJEB19856   SAMEA103892437           ERX1933714    ERR1873189  410658   \n",
       "\n",
       "   scientific_name                                          fastq_ftp  \\\n",
       "0  soil metagenome  ftp.sra.ebi.ac.uk/vol1/fastq/ERR187/005/ERR187...   \n",
       "1  soil metagenome  ftp.sra.ebi.ac.uk/vol1/fastq/ERR187/006/ERR187...   \n",
       "2  soil metagenome  ftp.sra.ebi.ac.uk/vol1/fastq/ERR187/007/ERR187...   \n",
       "3  soil metagenome  ftp.sra.ebi.ac.uk/vol1/fastq/ERR187/008/ERR187...   \n",
       "4  soil metagenome  ftp.sra.ebi.ac.uk/vol1/fastq/ERR187/009/ERR187...   \n",
       "\n",
       "                                       submitted_ftp  sra_ftp  \n",
       "0  ftp.sra.ebi.ac.uk/vol1/run/ERR187/ERR1873185/A...      NaN  \n",
       "1  ftp.sra.ebi.ac.uk/vol1/run/ERR187/ERR1873186/A...      NaN  \n",
       "2  ftp.sra.ebi.ac.uk/vol1/run/ERR187/ERR1873187/A...      NaN  \n",
       "3  ftp.sra.ebi.ac.uk/vol1/run/ERR187/ERR1873188/A...      NaN  \n",
       "4  ftp.sra.ebi.ac.uk/vol1/run/ERR187/ERR1873189/A...      NaN  "
      ]
     },
     "execution_count": 2,
     "metadata": {},
     "output_type": "execute_result"
    }
   ],
   "source": [
    "file_metadata = pd.read_csv('../data/ENA_PRJEB19856_metadata.tsv', sep='\\t')\n",
    "file_metadata.head()"
   ]
  },
  {
   "cell_type": "code",
   "execution_count": 3,
   "metadata": {},
   "outputs": [],
   "source": [
    "colnames = 'sample-id,forward-absolute-filepath,reverse-absolute-filepath'.split(',')\n",
    "manifest_dict = {\n",
    "    'sample-id': [],\n",
    "    'forward-absolute-filepath': [],\n",
    "    'reverse-absolute-filepath': [],\n",
    "}\n",
    "\n",
    "for idx, row_df in file_metadata.iterrows():\n",
    "    ftp_paths = row_df.submitted_ftp.split(';')\n",
    "    if len(ftp_paths) != 2:\n",
    "        continue \n",
    "        \n",
    "    fname_fwd = path.join('$PWD/data/', ftp_paths[0].split('/')[-1])\n",
    "    fname_rev = path.join('$PWD/data/', ftp_paths[1].split('/')[-1])\n",
    "    \n",
    "    manifest_dict['sample-id'].append(row_df.run_accession)\n",
    "    manifest_dict['forward-absolute-filepath'].append(fname_fwd)\n",
    "    manifest_dict['reverse-absolute-filepath'].append(fname_rev)"
   ]
  },
  {
   "cell_type": "code",
   "execution_count": 4,
   "metadata": {},
   "outputs": [],
   "source": [
    "manifest_df = pd.DataFrame(manifest_dict)\n",
    "\n",
    "# Drop the last row since it appears to be a duplicate.\n",
    "manifest_df.set_index('sample-id', inplace=True)\n",
    "manifest_df.drop(axis=0, index='ERR2603003', inplace=True)\n",
    "manifest_df.reset_index(inplace=True)\n",
    "\n",
    "# Save file as csv for input to DADA2\n",
    "manifest_df.to_csv('../data/manifest.tsv', sep='\\t', index=False)"
   ]
  },
  {
   "cell_type": "code",
   "execution_count": 5,
   "metadata": {},
   "outputs": [
    {
     "data": {
      "text/plain": [
       "(234, 3)"
      ]
     },
     "execution_count": 5,
     "metadata": {},
     "output_type": "execute_result"
    }
   ],
   "source": [
    "manifest_df.shape"
   ]
  },
  {
   "cell_type": "code",
   "execution_count": null,
   "metadata": {},
   "outputs": [],
   "source": []
  }
 ],
 "metadata": {
  "kernelspec": {
   "display_name": "Python 3",
   "language": "python",
   "name": "python3"
  },
  "language_info": {
   "codemirror_mode": {
    "name": "ipython",
    "version": 3
   },
   "file_extension": ".py",
   "mimetype": "text/x-python",
   "name": "python",
   "nbconvert_exporter": "python",
   "pygments_lexer": "ipython3",
   "version": "3.8.2"
  }
 },
 "nbformat": 4,
 "nbformat_minor": 4
}
